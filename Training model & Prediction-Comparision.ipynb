{
 "cells": [
  {
   "cell_type": "code",
   "execution_count": 1,
   "metadata": {},
   "outputs": [],
   "source": [
    "import numpy as np\n",
    "import os\n",
    "import cv2\n",
    "import matplotlib\n",
    "from matplotlib import pyplot as plt\n",
    "%matplotlib inline"
   ]
  },
  {
   "cell_type": "code",
   "execution_count": 2,
   "metadata": {},
   "outputs": [],
   "source": [
    "face_cascade = cv2.CascadeClassifier('./opencv/haarcascades/haarcascade_frontalface_default.xml')\n",
    "eye_cascade = cv2.CascadeClassifier('./opencv/haarcascades/haarcascade_eye.xml')"
   ]
  },
  {
   "cell_type": "markdown",
   "metadata": {},
   "source": [
    "# Wavelet transform"
   ]
  },
  {
   "cell_type": "code",
   "execution_count": 4,
   "metadata": {},
   "outputs": [],
   "source": [
    "import pywt\n",
    "  \n",
    "\n",
    "def w2d(img, mode='haar', level=1):\n",
    "    imArray = img\n",
    "    #Datatype conversions\n",
    "    #convert to grayscale\n",
    "    imArray = cv2.cvtColor( imArray,cv2.COLOR_RGB2GRAY )\n",
    "    #convert to float\n",
    "    imArray =  np.float32(imArray)   \n",
    "    imArray /= 255;\n",
    "    # compute coefficients \n",
    "    coeffs=pywt.wavedec2(imArray, mode, level=level)\n",
    "\n",
    "    #Process Coefficients\n",
    "    coeffs_H=list(coeffs)  \n",
    "    coeffs_H[0] *= 0;  \n",
    "\n",
    "    # reconstruction\n",
    "    imArray_H=pywt.waverec2(coeffs_H, mode);\n",
    "    imArray_H *= 255;\n",
    "    imArray_H =  np.uint8(imArray_H)\n",
    "\n",
    "    return imArray_H"
   ]
  },
  {
   "cell_type": "markdown",
   "metadata": {},
   "source": [
    "# Get Cropped Image & Cleanng"
   ]
  },
  {
   "cell_type": "code",
   "execution_count": 35,
   "metadata": {},
   "outputs": [],
   "source": [
    "def get_cropped_image_if_2_eyes(image_path):\n",
    "    if os.path.isfile(image_path):\n",
    "        img = cv2.imread(image_path)\n",
    "        gray = cv2.cvtColor(img, cv2.COLOR_BGR2GRAY)\n",
    "        faces = face_cascade.detectMultiScale(gray, 1.3, 5)\n",
    "        for (x,y,w,h) in faces:\n",
    "            roi_gray = gray[y:y+h, x:x+w]\n",
    "            roi_color = img[y:y+h, x:x+w]\n",
    "            eyes = eye_cascade.detectMultiScale(roi_gray)\n",
    "            if len(eyes) >= 2:\n",
    "                return roi_color"
   ]
  },
  {
   "cell_type": "code",
   "execution_count": 6,
   "metadata": {},
   "outputs": [],
   "source": [
    "path_to_data = \"./dataset/\"\n",
    "path_to_cr_data = \"./cropped/\""
   ]
  },
  {
   "cell_type": "code",
   "execution_count": 7,
   "metadata": {},
   "outputs": [],
   "source": [
    "import os\n",
    "img_dirs = []\n",
    "for entry in os.scandir(path_to_data):\n",
    "    if entry.is_dir():\n",
    "        img_dirs.append(entry.path)"
   ]
  },
  {
   "cell_type": "code",
   "execution_count": 8,
   "metadata": {
    "scrolled": true
   },
   "outputs": [
    {
     "data": {
      "text/plain": [
       "['./dataset/Mary_Com',\n",
       " './dataset/Mithali_Raj',\n",
       " './dataset/MS_Dhoni',\n",
       " './dataset/PV_Sindhu',\n",
       " './dataset/Rahul_Dravis',\n",
       " './dataset/Saina_Nehwal',\n",
       " './dataset/Virat_Kohli']"
      ]
     },
     "execution_count": 8,
     "metadata": {},
     "output_type": "execute_result"
    }
   ],
   "source": [
    "img_dirs"
   ]
  },
  {
   "cell_type": "code",
   "execution_count": 9,
   "metadata": {},
   "outputs": [],
   "source": [
    "import os\n",
    "cropped_image_dirs  = []\n",
    "for entry in os.scandir(path_to_cr_data):\n",
    "    if entry.is_dir():\n",
    "        cropped_image_dirs.append(entry.path)"
   ]
  },
  {
   "cell_type": "code",
   "execution_count": 10,
   "metadata": {},
   "outputs": [
    {
     "data": {
      "text/plain": [
       "['./cropped/Mary_Com',\n",
       " './cropped/Mithali_Raj',\n",
       " './cropped/MS_Dhoni',\n",
       " './cropped/PV_Sindhu',\n",
       " './cropped/Rahul_Dravis',\n",
       " './cropped/Saina_Nehwal',\n",
       " './cropped/Virat_Kohli']"
      ]
     },
     "execution_count": 10,
     "metadata": {},
     "output_type": "execute_result"
    }
   ],
   "source": [
    "cropped_image_dirs"
   ]
  },
  {
   "cell_type": "code",
   "execution_count": 11,
   "metadata": {},
   "outputs": [
    {
     "data": {
      "text/plain": [
       "{'Mary_Com': ['./cropped/Mary_Com\\\\Mary_Com1.png',\n",
       "  './cropped/Mary_Com\\\\Mary_Com10.png',\n",
       "  './cropped/Mary_Com\\\\Mary_Com11.png',\n",
       "  './cropped/Mary_Com\\\\Mary_Com12.png',\n",
       "  './cropped/Mary_Com\\\\Mary_Com13.png',\n",
       "  './cropped/Mary_Com\\\\Mary_Com14.png',\n",
       "  './cropped/Mary_Com\\\\Mary_Com15.png',\n",
       "  './cropped/Mary_Com\\\\Mary_Com16.png',\n",
       "  './cropped/Mary_Com\\\\Mary_Com17.png',\n",
       "  './cropped/Mary_Com\\\\Mary_Com2.png',\n",
       "  './cropped/Mary_Com\\\\Mary_Com21.png',\n",
       "  './cropped/Mary_Com\\\\Mary_Com26.png',\n",
       "  './cropped/Mary_Com\\\\Mary_Com27.png',\n",
       "  './cropped/Mary_Com\\\\Mary_Com28.png',\n",
       "  './cropped/Mary_Com\\\\Mary_Com29.png',\n",
       "  './cropped/Mary_Com\\\\Mary_Com3.png',\n",
       "  './cropped/Mary_Com\\\\Mary_Com4.png',\n",
       "  './cropped/Mary_Com\\\\Mary_Com5.png',\n",
       "  './cropped/Mary_Com\\\\Mary_Com6.png',\n",
       "  './cropped/Mary_Com\\\\Mary_Com7.png',\n",
       "  './cropped/Mary_Com\\\\Mary_Com8.png',\n",
       "  './cropped/Mary_Com\\\\Mary_Com9.png'],\n",
       " 'Mithali_Raj': ['./cropped/Mithali_Raj\\\\Mithali_Raj1.png',\n",
       "  './cropped/Mithali_Raj\\\\Mithali_Raj10.png',\n",
       "  './cropped/Mithali_Raj\\\\Mithali_Raj11.png',\n",
       "  './cropped/Mithali_Raj\\\\Mithali_Raj12.png',\n",
       "  './cropped/Mithali_Raj\\\\Mithali_Raj13.png',\n",
       "  './cropped/Mithali_Raj\\\\Mithali_Raj14.png',\n",
       "  './cropped/Mithali_Raj\\\\Mithali_Raj15.png',\n",
       "  './cropped/Mithali_Raj\\\\Mithali_Raj16.png',\n",
       "  './cropped/Mithali_Raj\\\\Mithali_Raj17.png',\n",
       "  './cropped/Mithali_Raj\\\\Mithali_Raj18.png',\n",
       "  './cropped/Mithali_Raj\\\\Mithali_Raj19.png',\n",
       "  './cropped/Mithali_Raj\\\\Mithali_Raj2.png',\n",
       "  './cropped/Mithali_Raj\\\\Mithali_Raj20.png',\n",
       "  './cropped/Mithali_Raj\\\\Mithali_Raj21.png',\n",
       "  './cropped/Mithali_Raj\\\\Mithali_Raj22.png',\n",
       "  './cropped/Mithali_Raj\\\\Mithali_Raj23.png',\n",
       "  './cropped/Mithali_Raj\\\\Mithali_Raj24.png',\n",
       "  './cropped/Mithali_Raj\\\\Mithali_Raj25.png',\n",
       "  './cropped/Mithali_Raj\\\\Mithali_Raj26.png',\n",
       "  './cropped/Mithali_Raj\\\\Mithali_Raj27.png',\n",
       "  './cropped/Mithali_Raj\\\\Mithali_Raj28.png',\n",
       "  './cropped/Mithali_Raj\\\\Mithali_Raj29.png',\n",
       "  './cropped/Mithali_Raj\\\\Mithali_Raj3.png',\n",
       "  './cropped/Mithali_Raj\\\\Mithali_Raj30.png',\n",
       "  './cropped/Mithali_Raj\\\\Mithali_Raj31.png',\n",
       "  './cropped/Mithali_Raj\\\\Mithali_Raj32.png',\n",
       "  './cropped/Mithali_Raj\\\\Mithali_Raj4.png',\n",
       "  './cropped/Mithali_Raj\\\\Mithali_Raj5.png',\n",
       "  './cropped/Mithali_Raj\\\\Mithali_Raj6.png',\n",
       "  './cropped/Mithali_Raj\\\\Mithali_Raj7.png',\n",
       "  './cropped/Mithali_Raj\\\\Mithali_Raj8.png',\n",
       "  './cropped/Mithali_Raj\\\\Mithali_Raj9.png'],\n",
       " 'MS_Dhoni': ['./cropped/MS_Dhoni\\\\MS_Dhoni1.png',\n",
       "  './cropped/MS_Dhoni\\\\MS_Dhoni10.png',\n",
       "  './cropped/MS_Dhoni\\\\MS_Dhoni11.png',\n",
       "  './cropped/MS_Dhoni\\\\MS_Dhoni14.png',\n",
       "  './cropped/MS_Dhoni\\\\MS_Dhoni15.png',\n",
       "  './cropped/MS_Dhoni\\\\MS_Dhoni16.png',\n",
       "  './cropped/MS_Dhoni\\\\MS_Dhoni17.png',\n",
       "  './cropped/MS_Dhoni\\\\MS_Dhoni18.png',\n",
       "  './cropped/MS_Dhoni\\\\MS_Dhoni19.png',\n",
       "  './cropped/MS_Dhoni\\\\MS_Dhoni2.png',\n",
       "  './cropped/MS_Dhoni\\\\MS_Dhoni20.png',\n",
       "  './cropped/MS_Dhoni\\\\MS_Dhoni21.png',\n",
       "  './cropped/MS_Dhoni\\\\MS_Dhoni22.png',\n",
       "  './cropped/MS_Dhoni\\\\MS_Dhoni23.png',\n",
       "  './cropped/MS_Dhoni\\\\MS_Dhoni24.png',\n",
       "  './cropped/MS_Dhoni\\\\MS_Dhoni25.png',\n",
       "  './cropped/MS_Dhoni\\\\MS_Dhoni26.png',\n",
       "  './cropped/MS_Dhoni\\\\MS_Dhoni27.png',\n",
       "  './cropped/MS_Dhoni\\\\MS_Dhoni28.png',\n",
       "  './cropped/MS_Dhoni\\\\MS_Dhoni29.png',\n",
       "  './cropped/MS_Dhoni\\\\MS_Dhoni3.png',\n",
       "  './cropped/MS_Dhoni\\\\MS_Dhoni30.png',\n",
       "  './cropped/MS_Dhoni\\\\MS_Dhoni31.png',\n",
       "  './cropped/MS_Dhoni\\\\MS_Dhoni32.png',\n",
       "  './cropped/MS_Dhoni\\\\MS_Dhoni33.png',\n",
       "  './cropped/MS_Dhoni\\\\MS_Dhoni34.png',\n",
       "  './cropped/MS_Dhoni\\\\MS_Dhoni35.png',\n",
       "  './cropped/MS_Dhoni\\\\MS_Dhoni36.png',\n",
       "  './cropped/MS_Dhoni\\\\MS_Dhoni37.png',\n",
       "  './cropped/MS_Dhoni\\\\MS_Dhoni4.png',\n",
       "  './cropped/MS_Dhoni\\\\MS_Dhoni5.png',\n",
       "  './cropped/MS_Dhoni\\\\MS_Dhoni6.png',\n",
       "  './cropped/MS_Dhoni\\\\MS_Dhoni7.png',\n",
       "  './cropped/MS_Dhoni\\\\MS_Dhoni8.png',\n",
       "  './cropped/MS_Dhoni\\\\MS_Dhoni9.png'],\n",
       " 'PV_Sindhu': ['./cropped/PV_Sindhu\\\\PV_Sindhu1.png',\n",
       "  './cropped/PV_Sindhu\\\\PV_Sindhu10.png',\n",
       "  './cropped/PV_Sindhu\\\\PV_Sindhu11.png',\n",
       "  './cropped/PV_Sindhu\\\\PV_Sindhu12.png',\n",
       "  './cropped/PV_Sindhu\\\\PV_Sindhu13.png',\n",
       "  './cropped/PV_Sindhu\\\\PV_Sindhu14.png',\n",
       "  './cropped/PV_Sindhu\\\\PV_Sindhu15.png',\n",
       "  './cropped/PV_Sindhu\\\\PV_Sindhu16.png',\n",
       "  './cropped/PV_Sindhu\\\\PV_Sindhu17.png',\n",
       "  './cropped/PV_Sindhu\\\\PV_Sindhu18.png',\n",
       "  './cropped/PV_Sindhu\\\\PV_Sindhu19.png',\n",
       "  './cropped/PV_Sindhu\\\\PV_Sindhu2.png',\n",
       "  './cropped/PV_Sindhu\\\\PV_Sindhu20.png',\n",
       "  './cropped/PV_Sindhu\\\\PV_Sindhu24.png',\n",
       "  './cropped/PV_Sindhu\\\\PV_Sindhu3.png',\n",
       "  './cropped/PV_Sindhu\\\\PV_Sindhu4.png',\n",
       "  './cropped/PV_Sindhu\\\\PV_Sindhu5.png',\n",
       "  './cropped/PV_Sindhu\\\\PV_Sindhu6.png',\n",
       "  './cropped/PV_Sindhu\\\\PV_Sindhu7.png',\n",
       "  './cropped/PV_Sindhu\\\\PV_Sindhu8.png',\n",
       "  './cropped/PV_Sindhu\\\\PV_Sindhu9.png'],\n",
       " 'Rahul_Dravis': ['./cropped/Rahul_Dravis\\\\Rahul_Dravis1.png',\n",
       "  './cropped/Rahul_Dravis\\\\Rahul_Dravis10.png',\n",
       "  './cropped/Rahul_Dravis\\\\Rahul_Dravis11.png',\n",
       "  './cropped/Rahul_Dravis\\\\Rahul_Dravis12.png',\n",
       "  './cropped/Rahul_Dravis\\\\Rahul_Dravis13.png',\n",
       "  './cropped/Rahul_Dravis\\\\Rahul_Dravis14.png',\n",
       "  './cropped/Rahul_Dravis\\\\Rahul_Dravis15.png',\n",
       "  './cropped/Rahul_Dravis\\\\Rahul_Dravis16.png',\n",
       "  './cropped/Rahul_Dravis\\\\Rahul_Dravis17.png',\n",
       "  './cropped/Rahul_Dravis\\\\Rahul_Dravis18.png',\n",
       "  './cropped/Rahul_Dravis\\\\Rahul_Dravis19.png',\n",
       "  './cropped/Rahul_Dravis\\\\Rahul_Dravis2.png',\n",
       "  './cropped/Rahul_Dravis\\\\Rahul_Dravis20.png',\n",
       "  './cropped/Rahul_Dravis\\\\Rahul_Dravis21.png',\n",
       "  './cropped/Rahul_Dravis\\\\Rahul_Dravis22.png',\n",
       "  './cropped/Rahul_Dravis\\\\Rahul_Dravis23.png',\n",
       "  './cropped/Rahul_Dravis\\\\Rahul_Dravis24.png',\n",
       "  './cropped/Rahul_Dravis\\\\Rahul_Dravis25.png',\n",
       "  './cropped/Rahul_Dravis\\\\Rahul_Dravis26.png',\n",
       "  './cropped/Rahul_Dravis\\\\Rahul_Dravis27.png',\n",
       "  './cropped/Rahul_Dravis\\\\Rahul_Dravis28.png',\n",
       "  './cropped/Rahul_Dravis\\\\Rahul_Dravis29.png',\n",
       "  './cropped/Rahul_Dravis\\\\Rahul_Dravis3.png',\n",
       "  './cropped/Rahul_Dravis\\\\Rahul_Dravis4.png',\n",
       "  './cropped/Rahul_Dravis\\\\Rahul_Dravis5.png',\n",
       "  './cropped/Rahul_Dravis\\\\Rahul_Dravis6.png',\n",
       "  './cropped/Rahul_Dravis\\\\Rahul_Dravis7.png',\n",
       "  './cropped/Rahul_Dravis\\\\Rahul_Dravis8.png',\n",
       "  './cropped/Rahul_Dravis\\\\Rahul_Dravis9.png'],\n",
       " 'Saina_Nehwal': ['./cropped/Saina_Nehwal\\\\Saina_Nehwal1.png',\n",
       "  './cropped/Saina_Nehwal\\\\Saina_Nehwal10.png',\n",
       "  './cropped/Saina_Nehwal\\\\Saina_Nehwal11.png',\n",
       "  './cropped/Saina_Nehwal\\\\Saina_Nehwal12.png',\n",
       "  './cropped/Saina_Nehwal\\\\Saina_Nehwal2.png',\n",
       "  './cropped/Saina_Nehwal\\\\Saina_Nehwal4.png',\n",
       "  './cropped/Saina_Nehwal\\\\Saina_Nehwal5.png',\n",
       "  './cropped/Saina_Nehwal\\\\Saina_Nehwal6.png',\n",
       "  './cropped/Saina_Nehwal\\\\Saina_Nehwal7.png',\n",
       "  './cropped/Saina_Nehwal\\\\Saina_Nehwal8.png',\n",
       "  './cropped/Saina_Nehwal\\\\Saina_Nehwal9.png'],\n",
       " 'Virat_Kohli': ['./cropped/Virat_Kohli\\\\Virat_Kohli1.png',\n",
       "  './cropped/Virat_Kohli\\\\Virat_Kohli10.png',\n",
       "  './cropped/Virat_Kohli\\\\Virat_Kohli11.png',\n",
       "  './cropped/Virat_Kohli\\\\Virat_Kohli12.png',\n",
       "  './cropped/Virat_Kohli\\\\Virat_Kohli13.png',\n",
       "  './cropped/Virat_Kohli\\\\Virat_Kohli14.png',\n",
       "  './cropped/Virat_Kohli\\\\Virat_Kohli15.png',\n",
       "  './cropped/Virat_Kohli\\\\Virat_Kohli16.png',\n",
       "  './cropped/Virat_Kohli\\\\Virat_Kohli17.png',\n",
       "  './cropped/Virat_Kohli\\\\Virat_Kohli18.png',\n",
       "  './cropped/Virat_Kohli\\\\Virat_Kohli19.png',\n",
       "  './cropped/Virat_Kohli\\\\Virat_Kohli2.png',\n",
       "  './cropped/Virat_Kohli\\\\Virat_Kohli20.png',\n",
       "  './cropped/Virat_Kohli\\\\Virat_Kohli21.png',\n",
       "  './cropped/Virat_Kohli\\\\Virat_Kohli22.png',\n",
       "  './cropped/Virat_Kohli\\\\Virat_Kohli23.png',\n",
       "  './cropped/Virat_Kohli\\\\Virat_Kohli24.png',\n",
       "  './cropped/Virat_Kohli\\\\Virat_Kohli25.png',\n",
       "  './cropped/Virat_Kohli\\\\Virat_Kohli26.png',\n",
       "  './cropped/Virat_Kohli\\\\Virat_Kohli27.png',\n",
       "  './cropped/Virat_Kohli\\\\Virat_Kohli28.png',\n",
       "  './cropped/Virat_Kohli\\\\Virat_Kohli29.png',\n",
       "  './cropped/Virat_Kohli\\\\Virat_Kohli3.png',\n",
       "  './cropped/Virat_Kohli\\\\Virat_Kohli30.png',\n",
       "  './cropped/Virat_Kohli\\\\Virat_Kohli31.png',\n",
       "  './cropped/Virat_Kohli\\\\Virat_Kohli32.png',\n",
       "  './cropped/Virat_Kohli\\\\Virat_Kohli33.png',\n",
       "  './cropped/Virat_Kohli\\\\Virat_Kohli34.png',\n",
       "  './cropped/Virat_Kohli\\\\Virat_Kohli35.png',\n",
       "  './cropped/Virat_Kohli\\\\Virat_Kohli36.png',\n",
       "  './cropped/Virat_Kohli\\\\Virat_Kohli37.png',\n",
       "  './cropped/Virat_Kohli\\\\Virat_Kohli4.png',\n",
       "  './cropped/Virat_Kohli\\\\Virat_Kohli5.png',\n",
       "  './cropped/Virat_Kohli\\\\Virat_Kohli6.png',\n",
       "  './cropped/Virat_Kohli\\\\Virat_Kohli7.png',\n",
       "  './cropped/Virat_Kohli\\\\Virat_Kohli8.png',\n",
       "  './cropped/Virat_Kohli\\\\Virat_Kohli9.png']}"
      ]
     },
     "execution_count": 11,
     "metadata": {},
     "output_type": "execute_result"
    }
   ],
   "source": [
    "celebrity_file_names_dict = {}\n",
    "for img_dir in cropped_image_dirs:\n",
    "    celebrity_name = img_dir.split('/')[-1]\n",
    "    file_list = []\n",
    "    for entry in os.scandir(img_dir):\n",
    "        file_list.append(entry.path)\n",
    "    celebrity_file_names_dict[celebrity_name] = file_list\n",
    "celebrity_file_names_dict"
   ]
  },
  {
   "cell_type": "code",
   "execution_count": 12,
   "metadata": {},
   "outputs": [
    {
     "data": {
      "text/plain": [
       "{'Mary_Com': 0,\n",
       " 'Mithali_Raj': 1,\n",
       " 'MS_Dhoni': 2,\n",
       " 'PV_Sindhu': 3,\n",
       " 'Rahul_Dravis': 4,\n",
       " 'Saina_Nehwal': 5,\n",
       " 'Virat_Kohli': 6}"
      ]
     },
     "execution_count": 12,
     "metadata": {},
     "output_type": "execute_result"
    }
   ],
   "source": [
    "class_dict = {}\n",
    "count = 0\n",
    "for celebrity_name in celebrity_file_names_dict.keys():\n",
    "    class_dict[celebrity_name] = count\n",
    "    count = count + 1\n",
    "class_dict"
   ]
  },
  {
   "cell_type": "code",
   "execution_count": 13,
   "metadata": {},
   "outputs": [],
   "source": [
    "X, y = [], []\n",
    "for celebrity_name, training_files in celebrity_file_names_dict.items():\n",
    "    for training_image in training_files:\n",
    "        img = cv2.imread(training_image)\n",
    "        scalled_raw_img = cv2.resize(img, (32, 32))\n",
    "        img_har = w2d(img,'db1',5)\n",
    "        scalled_img_har = cv2.resize(img_har, (32, 32))\n",
    "        combined_img = np.vstack((scalled_raw_img.reshape(32*32*3,1),scalled_img_har.reshape(32*32,1)))\n",
    "        X.append(combined_img)\n",
    "        y.append(class_dict[celebrity_name])  "
   ]
  },
  {
   "cell_type": "code",
   "execution_count": 14,
   "metadata": {},
   "outputs": [
    {
     "data": {
      "text/plain": [
       "4096"
      ]
     },
     "execution_count": 14,
     "metadata": {},
     "output_type": "execute_result"
    }
   ],
   "source": [
    "len(X[0])"
   ]
  },
  {
   "cell_type": "code",
   "execution_count": 15,
   "metadata": {},
   "outputs": [
    {
     "data": {
      "text/plain": [
       "array([[ 13],\n",
       "       [ 13],\n",
       "       [ 13],\n",
       "       ...,\n",
       "       [254],\n",
       "       [255],\n",
       "       [ 32]], dtype=uint8)"
      ]
     },
     "execution_count": 15,
     "metadata": {},
     "output_type": "execute_result"
    }
   ],
   "source": [
    "X[0]"
   ]
  },
  {
   "cell_type": "code",
   "execution_count": 16,
   "metadata": {},
   "outputs": [
    {
     "data": {
      "text/plain": [
       "0"
      ]
     },
     "execution_count": 16,
     "metadata": {},
     "output_type": "execute_result"
    }
   ],
   "source": [
    "y[0]"
   ]
  },
  {
   "cell_type": "code",
   "execution_count": 17,
   "metadata": {},
   "outputs": [
    {
     "data": {
      "text/plain": [
       "(187, 4096)"
      ]
     },
     "execution_count": 17,
     "metadata": {},
     "output_type": "execute_result"
    }
   ],
   "source": [
    "X = np.array(X).reshape(len(X),4096).astype(float)\n",
    "X.shape"
   ]
  },
  {
   "cell_type": "markdown",
   "metadata": {},
   "source": [
    "# Now, Train our Model"
   ]
  },
  {
   "cell_type": "code",
   "execution_count": 18,
   "metadata": {},
   "outputs": [],
   "source": [
    "# We will use SVM with rbf kernel tuned with heuristic finetuning\n",
    "from sklearn.svm import SVC\n",
    "from sklearn.preprocessing import StandardScaler\n",
    "from sklearn.model_selection import train_test_split\n",
    "from sklearn.pipeline import Pipeline\n",
    "from sklearn.metrics import classification_report"
   ]
  },
  {
   "cell_type": "code",
   "execution_count": 19,
   "metadata": {},
   "outputs": [
    {
     "data": {
      "text/plain": [
       "0.8085106382978723"
      ]
     },
     "execution_count": 19,
     "metadata": {},
     "output_type": "execute_result"
    }
   ],
   "source": [
    "X_train, X_test, y_train, y_test = train_test_split(X, y, random_state=0)\n",
    "\n",
    "pipe = Pipeline([('scaler', StandardScaler()), ('svc', SVC(kernel = 'rbf', C = 10))])\n",
    "pipe.fit(X_train, y_train)\n",
    "pipe.score(X_test, y_test)"
   ]
  },
  {
   "cell_type": "code",
   "execution_count": 20,
   "metadata": {},
   "outputs": [
    {
     "name": "stdout",
     "output_type": "stream",
     "text": [
      "              precision    recall  f1-score   support\n",
      "\n",
      "           0       1.00      1.00      1.00         5\n",
      "           1       0.56      0.71      0.63         7\n",
      "           2       0.78      0.88      0.82         8\n",
      "           3       0.67      0.67      0.67         6\n",
      "           4       1.00      0.89      0.94         9\n",
      "           5       0.00      0.00      0.00         2\n",
      "           6       1.00      0.90      0.95        10\n",
      "\n",
      "    accuracy                           0.81        47\n",
      "   macro avg       0.71      0.72      0.71        47\n",
      "weighted avg       0.81      0.81      0.81        47\n",
      "\n"
     ]
    }
   ],
   "source": [
    "print(classification_report(y_test, pipe.predict(X_test)))"
   ]
  },
  {
   "cell_type": "code",
   "execution_count": 21,
   "metadata": {},
   "outputs": [],
   "source": [
    "from sklearn import svm\n",
    "from sklearn.ensemble import RandomForestClassifier\n",
    "from sklearn.linear_model import LogisticRegression\n",
    "from sklearn.pipeline import make_pipeline\n",
    "from sklearn.model_selection import GridSearchCV"
   ]
  },
  {
   "cell_type": "code",
   "execution_count": 22,
   "metadata": {},
   "outputs": [],
   "source": [
    "model_params = {\n",
    "    'svm': {\n",
    "        'model': svm.SVC(gamma='auto',probability=True),\n",
    "        'params' : {\n",
    "            'svc__C': [1,10,100,1000],\n",
    "            'svc__kernel': ['rbf','linear']\n",
    "        }  \n",
    "    },\n",
    "    'random_forest': {\n",
    "        'model': RandomForestClassifier(),\n",
    "        'params' : {\n",
    "            'randomforestclassifier__n_estimators': [1,5,10]\n",
    "        }\n",
    "    },\n",
    "    'logistic_regression' : {\n",
    "        'model': LogisticRegression(solver='liblinear',multi_class='auto'),\n",
    "        'params': {\n",
    "            'logisticregression__C': [1,5,10]\n",
    "        }\n",
    "    }\n",
    "}"
   ]
  },
  {
   "cell_type": "code",
   "execution_count": 23,
   "metadata": {},
   "outputs": [
    {
     "data": {
      "text/html": [
       "<div>\n",
       "<style scoped>\n",
       "    .dataframe tbody tr th:only-of-type {\n",
       "        vertical-align: middle;\n",
       "    }\n",
       "\n",
       "    .dataframe tbody tr th {\n",
       "        vertical-align: top;\n",
       "    }\n",
       "\n",
       "    .dataframe thead th {\n",
       "        text-align: right;\n",
       "    }\n",
       "</style>\n",
       "<table border=\"1\" class=\"dataframe\">\n",
       "  <thead>\n",
       "    <tr style=\"text-align: right;\">\n",
       "      <th></th>\n",
       "      <th>model</th>\n",
       "      <th>best_score</th>\n",
       "      <th>best_params</th>\n",
       "    </tr>\n",
       "  </thead>\n",
       "  <tbody>\n",
       "    <tr>\n",
       "      <th>0</th>\n",
       "      <td>svm</td>\n",
       "      <td>0.792857</td>\n",
       "      <td>{'svc__C': 1, 'svc__kernel': 'linear'}</td>\n",
       "    </tr>\n",
       "    <tr>\n",
       "      <th>1</th>\n",
       "      <td>random_forest</td>\n",
       "      <td>0.607143</td>\n",
       "      <td>{'randomforestclassifier__n_estimators': 10}</td>\n",
       "    </tr>\n",
       "    <tr>\n",
       "      <th>2</th>\n",
       "      <td>logistic_regression</td>\n",
       "      <td>0.850000</td>\n",
       "      <td>{'logisticregression__C': 1}</td>\n",
       "    </tr>\n",
       "  </tbody>\n",
       "</table>\n",
       "</div>"
      ],
      "text/plain": [
       "                 model  best_score  \\\n",
       "0                  svm    0.792857   \n",
       "1        random_forest    0.607143   \n",
       "2  logistic_regression    0.850000   \n",
       "\n",
       "                                    best_params  \n",
       "0        {'svc__C': 1, 'svc__kernel': 'linear'}  \n",
       "1  {'randomforestclassifier__n_estimators': 10}  \n",
       "2                  {'logisticregression__C': 1}  "
      ]
     },
     "execution_count": 23,
     "metadata": {},
     "output_type": "execute_result"
    }
   ],
   "source": [
    "scores = []\n",
    "best_estimators = {}\n",
    "import pandas as pd\n",
    "for algo, mp in model_params.items():\n",
    "    pipe = make_pipeline(StandardScaler(), mp['model'])\n",
    "    clf =  GridSearchCV(pipe, mp['params'], cv=5, return_train_score=False)\n",
    "    clf.fit(X_train, y_train)\n",
    "    scores.append({\n",
    "        'model': algo,\n",
    "        'best_score': clf.best_score_,\n",
    "        'best_params': clf.best_params_\n",
    "    })\n",
    "    best_estimators[algo] = clf.best_estimator_\n",
    "    \n",
    "df = pd.DataFrame(scores,columns=['model','best_score','best_params'])\n",
    "df"
   ]
  },
  {
   "cell_type": "code",
   "execution_count": 24,
   "metadata": {},
   "outputs": [
    {
     "data": {
      "text/plain": [
       "{'svm': Pipeline(steps=[('standardscaler', StandardScaler()),\n",
       "                 ('svc',\n",
       "                  SVC(C=1, gamma='auto', kernel='linear', probability=True))]),\n",
       " 'random_forest': Pipeline(steps=[('standardscaler', StandardScaler()),\n",
       "                 ('randomforestclassifier',\n",
       "                  RandomForestClassifier(n_estimators=10))]),\n",
       " 'logistic_regression': Pipeline(steps=[('standardscaler', StandardScaler()),\n",
       "                 ('logisticregression',\n",
       "                  LogisticRegression(C=1, solver='liblinear'))])}"
      ]
     },
     "execution_count": 24,
     "metadata": {},
     "output_type": "execute_result"
    }
   ],
   "source": [
    "best_estimators"
   ]
  },
  {
   "cell_type": "code",
   "execution_count": 25,
   "metadata": {},
   "outputs": [
    {
     "data": {
      "text/plain": [
       "0.851063829787234"
      ]
     },
     "execution_count": 25,
     "metadata": {},
     "output_type": "execute_result"
    }
   ],
   "source": [
    "best_estimators['svm'].score(X_test,y_test)"
   ]
  },
  {
   "cell_type": "code",
   "execution_count": 26,
   "metadata": {},
   "outputs": [
    {
     "data": {
      "text/plain": [
       "0.5957446808510638"
      ]
     },
     "execution_count": 26,
     "metadata": {},
     "output_type": "execute_result"
    }
   ],
   "source": [
    "best_estimators['random_forest'].score(X_test,y_test)"
   ]
  },
  {
   "cell_type": "code",
   "execution_count": 27,
   "metadata": {},
   "outputs": [
    {
     "data": {
      "text/plain": [
       "0.8936170212765957"
      ]
     },
     "execution_count": 27,
     "metadata": {},
     "output_type": "execute_result"
    }
   ],
   "source": [
    "best_estimators['logistic_regression'].score(X_test,y_test)"
   ]
  },
  {
   "cell_type": "code",
   "execution_count": 28,
   "metadata": {},
   "outputs": [],
   "source": [
    "best_clf = best_estimators['svm']"
   ]
  },
  {
   "cell_type": "code",
   "execution_count": 29,
   "metadata": {},
   "outputs": [
    {
     "data": {
      "text/plain": [
       "array([[5, 0, 0, 0, 0, 0, 0],\n",
       "       [0, 6, 1, 0, 0, 0, 0],\n",
       "       [0, 0, 7, 0, 1, 0, 0],\n",
       "       [0, 0, 0, 6, 0, 0, 0],\n",
       "       [0, 0, 0, 1, 8, 0, 0],\n",
       "       [0, 0, 0, 2, 0, 0, 0],\n",
       "       [0, 0, 1, 0, 1, 0, 8]], dtype=int64)"
      ]
     },
     "execution_count": 29,
     "metadata": {},
     "output_type": "execute_result"
    }
   ],
   "source": [
    "from sklearn.metrics import confusion_matrix\n",
    "cm = confusion_matrix(y_test, best_clf.predict(X_test))\n",
    "cm"
   ]
  },
  {
   "cell_type": "code",
   "execution_count": 30,
   "metadata": {},
   "outputs": [
    {
     "data": {
      "text/plain": [
       "Text(69.0, 0.5, 'Truth')"
      ]
     },
     "execution_count": 30,
     "metadata": {},
     "output_type": "execute_result"
    },
    {
     "data": {
      "image/png": "[encoded data removed]",
      "text/plain": [
       "<Figure size 720x504 with 2 Axes>"
      ]
     },
     "metadata": {
      "needs_background": "light"
     },
     "output_type": "display_data"
    }
   ],
   "source": [
    "import seaborn as sn\n",
    "plt.figure(figsize = (10,7))\n",
    "sn.heatmap(cm, annot=True)\n",
    "plt.xlabel('Predicted')\n",
    "plt.ylabel('Truth')"
   ]
  },
  {
   "cell_type": "code",
   "execution_count": 31,
   "metadata": {
    "scrolled": true
   },
   "outputs": [
    {
     "data": {
      "text/plain": [
       "{'Mary_Com': 0,\n",
       " 'Mithali_Raj': 1,\n",
       " 'MS_Dhoni': 2,\n",
       " 'PV_Sindhu': 3,\n",
       " 'Rahul_Dravis': 4,\n",
       " 'Saina_Nehwal': 5,\n",
       " 'Virat_Kohli': 6}"
      ]
     },
     "execution_count": 31,
     "metadata": {},
     "output_type": "execute_result"
    }
   ],
   "source": [
    "class_dict"
   ]
  },
  {
   "cell_type": "markdown",
   "metadata": {},
   "source": [
    "### Save the trained model"
   ]
  },
  {
   "cell_type": "code",
   "execution_count": 32,
   "metadata": {
    "scrolled": true
   },
   "outputs": [
    {
     "name": "stdout",
     "output_type": "stream",
     "text": [
      "Requirement already satisfied: joblib in c:\\programdata\\anaconda3\\lib\\site-packages (0.16.0)\n"
     ]
    },
    {
     "name": "stderr",
     "output_type": "stream",
     "text": [
      "WARNING: You are using pip version 20.2.2; however, version 20.2.4 is available.\n",
      "You should consider upgrading via the 'C:\\ProgramData\\Anaconda3\\python.exe -m pip install --upgrade pip' command.\n"
     ]
    },
    {
     "data": {
      "text/plain": [
       "['saved_model.pkl']"
      ]
     },
     "execution_count": 32,
     "metadata": {},
     "output_type": "execute_result"
    }
   ],
   "source": [
    "!pip install joblib\n",
    "import joblib \n",
    "# Save the model as a pickle in a file \n",
    "joblib.dump(best_clf, 'saved_model.pkl') "
   ]
  },
  {
   "cell_type": "markdown",
   "metadata": {},
   "source": [
    "### Save class dictionary"
   ]
  },
  {
   "cell_type": "code",
   "execution_count": 33,
   "metadata": {},
   "outputs": [],
   "source": [
    "import json\n",
    "with open(\"class_dictionary.json\",\"w\") as f:\n",
    "    f.write(json.dumps(class_dict))"
   ]
  },
  {
   "cell_type": "code",
   "execution_count": null,
   "metadata": {},
   "outputs": [],
   "source": []
  }
 ],
 "metadata": {
  "kernelspec": {
   "display_name": "Python 3",
   "language": "python",
   "name": "python3"
  },
  "language_info": {
   "codemirror_mode": {
    "name": "ipython",
    "version": 3
   },
   "file_extension": ".py",
   "mimetype": "text/x-python",
   "name": "python",
   "nbconvert_exporter": "python",
   "pygments_lexer": "ipython3",
   "version": "3.8.3"
  }
 },
 "nbformat": 4,
 "nbformat_minor": 4
}
